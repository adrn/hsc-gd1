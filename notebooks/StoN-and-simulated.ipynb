{
 "cells": [
  {
   "cell_type": "code",
   "execution_count": null,
   "metadata": {},
   "outputs": [],
   "source": [
    "# Third-party\n",
    "import astropy.coordinates as coord\n",
    "from astropy.table import Table\n",
    "import astropy.units as u\n",
    "import matplotlib as mpl\n",
    "import matplotlib.pyplot as plt\n",
    "import numpy as np\n",
    "%matplotlib inline\n",
    "from scipy.stats import binned_statistic\n",
    "import gala.coordinates as gc\n",
    "from pyia import GaiaData"
   ]
  },
  {
   "cell_type": "code",
   "execution_count": null,
   "metadata": {},
   "outputs": [],
   "source": [
    "gd1 = GaiaData('/Users/adrian/projects/gd1-dr2/data/gd1-master.fits')"
   ]
  },
  {
   "cell_type": "code",
   "execution_count": null,
   "metadata": {},
   "outputs": [],
   "source": [
    "iso = Table.read('/Users/adrian/data/Isochrones/PARSEC/FeH_-1.4_iso.fits')\n",
    "iso_mask = (iso['stage']>=0) & (iso['stage']<3) & (iso['log(age/yr)'] == 10)\n",
    "iso = iso[iso_mask]\n",
    "\n",
    "iso_g = iso['ps1_g'] + coord.Distance(8*u.kpc).distmod.value"
   ]
  },
  {
   "cell_type": "markdown",
   "metadata": {},
   "source": [
    "## What is the linear mass density of stars along GD-1?"
   ]
  },
  {
   "cell_type": "code",
   "execution_count": null,
   "metadata": {},
   "outputs": [],
   "source": [
    "stream = gd1[gd1.pm_mask & gd1.gi_cmd_mask]\n",
    "\n",
    "segment_mask = (stream.phi1 > -40*u.deg) & (stream.phi1 < -30*u.deg)\n",
    "main = stream[segment_mask & (np.abs(stream.phi2) < 0.5*u.deg)]\n",
    "spur = stream[segment_mask & (stream.phi2 > 0.5*u.deg) & (stream.phi2 < 2.*u.deg)]"
   ]
  },
  {
   "cell_type": "code",
   "execution_count": null,
   "metadata": {},
   "outputs": [],
   "source": [
    "fig, ax = plt.subplots(1, 1, figsize=(10, 4))\n",
    "\n",
    "ax.plot(stream.phi1, stream.phi2,\n",
    "        marker='.', color='k', alpha=0.5, ls='none')\n",
    "\n",
    "ax.set_xlim(-75, -10)\n",
    "ax.set_ylim(-10, 10)\n",
    "\n",
    "ax.set_xlabel(r'$\\phi_1$ [deg]')\n",
    "ax.set_ylabel(r'$\\phi_2$ [deg]')"
   ]
  },
  {
   "cell_type": "code",
   "execution_count": null,
   "metadata": {},
   "outputs": [],
   "source": [
    "fig, ax = plt.subplots(1, 1, figsize=(6, 5))\n",
    "\n",
    "ax.plot(stream.phi1, stream.phi2,\n",
    "        marker='.', color='#aaaaaa', alpha=0.5, ls='none')\n",
    "\n",
    "ax.plot(main.phi1, main.phi2,\n",
    "        marker='.', color='k', alpha=0.8, ls='none')\n",
    "\n",
    "ax.plot(spur.phi1, spur.phi2,\n",
    "        marker='.', color='tab:red', alpha=0.8, ls='none')\n",
    "\n",
    "ax.set_xlim(-55, -25)\n",
    "ax.set_ylim(-10, 10)\n",
    "\n",
    "ax.set_xlabel(r'$\\phi_1$ [deg]')\n",
    "ax.set_ylabel(r'$\\phi_2$ [deg]')"
   ]
  },
  {
   "cell_type": "code",
   "execution_count": null,
   "metadata": {},
   "outputs": [],
   "source": [
    "fig, ax = plt.subplots(1, 1, figsize=(5, 5))\n",
    "\n",
    "ax.plot(main.g0 - main.i0, main.g0,\n",
    "        marker='.', ls='none', alpha=0.5)\n",
    "ax.set_xlim(-1, 2)\n",
    "ax.set_ylim(21.5, 14)\n",
    "fig.tight_layout()"
   ]
  },
  {
   "cell_type": "code",
   "execution_count": null,
   "metadata": {},
   "outputs": [],
   "source": [
    "gd1_lf_mask = (iso_g > 18) & (iso_g < 21)\n",
    "gd1_lf_iso = iso[gd1_lf_mask]\n",
    "\n",
    "nstream = ((main.g0 > 18*u.mag) & (main.g0 < 21*u.mag)).sum()\n",
    "nspur = ((spur.g0 > 18*u.mag) & (spur.g0 < 21*u.mag)).sum()\n",
    "nstream, nspur"
   ]
  },
  {
   "cell_type": "code",
   "execution_count": null,
   "metadata": {},
   "outputs": [],
   "source": [
    "fac = np.sum((gd1_lf_iso['int_IMF'][1:] - gd1_lf_iso['int_IMF'][:-1]) / u.Msun)\n",
    "M_stream = nstream / fac\n",
    "M_spur = nspur / fac\n",
    "\n",
    "stream_linear_dens = M_stream / (10*u.deg)\n",
    "spur_linear_dens = M_spur / (10*u.deg)\n",
    "stream_linear_dens, spur_linear_dens"
   ]
  },
  {
   "cell_type": "markdown",
   "metadata": {},
   "source": [
    "## Select an existing HSC field at comparable Galactic latitude"
   ]
  },
  {
   "cell_type": "code",
   "execution_count": null,
   "metadata": {},
   "outputs": [],
   "source": [
    "hsc = Table.read('/Users/adrian/data/HSC/hsc-stars-gri.fits')"
   ]
  },
  {
   "cell_type": "code",
   "execution_count": null,
   "metadata": {},
   "outputs": [],
   "source": [
    "c = coord.SkyCoord(ra=hsc['ra']*u.deg, dec=hsc['dec']*u.deg)"
   ]
  },
  {
   "cell_type": "code",
   "execution_count": null,
   "metadata": {},
   "outputs": [],
   "source": [
    "gal = c.transform_to(coord.Galactic)\n",
    "\n",
    "fig, ax = plt.subplots(1, 1, figsize=(6, 6))\n",
    "ax.plot(gal.l.degree[::64],\n",
    "        gal.b.degree[::64], \n",
    "        marker='.', ls='none')\n",
    "ax.axhline(52)\n",
    "ax.axhline(-52)\n",
    "ax.axvline(188)\n",
    "# ax.set_xlim(0, 360)\n",
    "ax.set_xlim(73, 78)\n",
    "ax.set_ylim(-55, -50)"
   ]
  },
  {
   "cell_type": "code",
   "execution_count": null,
   "metadata": {},
   "outputs": [],
   "source": [
    "fr = coord.SkyOffsetFrame(origin=coord.Galactic(l=75*u.deg, b=-52*u.deg))\n",
    "c_fr = c.transform_to(fr)\n",
    "\n",
    "# mask = np.sqrt(c_fr.lon.wrap_at(180*u.deg)**2 + c_fr.lat**2) < 1.5*u.deg\n",
    "mask = np.abs(c_fr.lon.wrap_at(180*u.deg)) < 2.25*u.deg\n",
    "mask &= np.abs(c_fr.lat) < 0.75*u.deg\n",
    "print(mask.sum())\n",
    "\n",
    "fig, ax = plt.subplots(1, 1, figsize=(5, 5))\n",
    "ax.plot(c_fr.lon.wrap_at(180*u.deg).degree,\n",
    "        c_fr.lat.degree,\n",
    "        marker='.', ls='none')\n",
    "ax.plot(c_fr.lon.wrap_at(180*u.deg).degree[mask],\n",
    "        c_fr.lat.degree[mask],\n",
    "        marker='.', ls='none')\n",
    "ax.set_xlim(-2.25, 2.25)\n",
    "ax.set_ylim(-1.5, 1.5)"
   ]
  },
  {
   "cell_type": "markdown",
   "metadata": {},
   "source": [
    "### Over-plot GD-1 isochrone"
   ]
  },
  {
   "cell_type": "code",
   "execution_count": null,
   "metadata": {},
   "outputs": [],
   "source": [
    "fig, ax = plt.subplots(1, 1, figsize=(6,6))\n",
    "\n",
    "ax.plot(hsc['g_psfflux_mag'][mask] - hsc['i_psfflux_mag'][mask],\n",
    "        hsc['g_psfflux_mag'][mask],\n",
    "        marker='.', ls='none', color='k',\n",
    "        alpha=0.5)\n",
    "\n",
    "m_g = iso['ps1_g'] + coord.Distance(8*u.kpc).distmod.value\n",
    "ax.plot(iso['ps1_g']-iso['ps1_i'], m_g,\n",
    "        marker='', lw=3, color='tab:orange', alpha=0.8)\n",
    "\n",
    "ax.set_xlim(-1, 3)\n",
    "ax.set_ylim(26., 19)\n",
    "ax.set_xlabel('$g-i$')\n",
    "ax.set_ylabel('$g$')\n",
    "ax.axhline(24, color='#666666', zorder=-100)\n",
    "fig.set_facecolor('w')"
   ]
  },
  {
   "cell_type": "markdown",
   "metadata": {},
   "source": [
    "### Use isochrone to estimate number of stars to sample (following mass function) in the field:"
   ]
  },
  {
   "cell_type": "code",
   "execution_count": null,
   "metadata": {},
   "outputs": [],
   "source": [
    "lf_mask = (m_g > 20.) & (m_g < 26.2)\n",
    "lf_iso = iso[lf_mask]"
   ]
  },
  {
   "cell_type": "code",
   "execution_count": null,
   "metadata": {},
   "outputs": [],
   "source": [
    "M_stream = stream_linear_dens * 3*u.deg # mass in GD-1 stream stars in 1 field\n",
    "M_spur = spur_linear_dens * 3*u.deg # mass in GD-1 spur stars in 1 field\n",
    "(((lf_iso['int_IMF'][1:] - lf_iso['int_IMF'][:-1]) / u.Msun * M_stream).sum(),\n",
    " ((lf_iso['int_IMF'][1:] - lf_iso['int_IMF'][:-1]) / u.Msun * M_spur).sum())"
   ]
  },
  {
   "cell_type": "code",
   "execution_count": null,
   "metadata": {},
   "outputs": [],
   "source": [
    "from scipy.interpolate import interp1d\n",
    "interp_f = interp1d(lf_iso['int_IMF'], lf_iso['M_act'])\n",
    "stream_masses = interp_f(np.random.uniform(lf_iso['int_IMF'].min(), lf_iso['int_IMF'].max(), 1000))\n",
    "spur_masses = interp_f(np.random.uniform(lf_iso['int_IMF'].min(), lf_iso['int_IMF'].max(), 580))\n",
    "stream_masses.sum(), spur_masses.sum()"
   ]
  },
  {
   "cell_type": "code",
   "execution_count": null,
   "metadata": {},
   "outputs": [],
   "source": [
    "mg_f = interp1d(lf_iso['M_act'], m_g[lf_mask])\n",
    "gi_f = interp1d(m_g[lf_mask], (iso['ps1_g']-iso['ps1_i'])[lf_mask])\n",
    "\n",
    "stream_sim_mg = mg_f(stream_masses)\n",
    "stream_sim_gi = gi_f(stream_sim_mg)\n",
    "\n",
    "spur_sim_mg = mg_f(spur_masses)\n",
    "spur_sim_gi = gi_f(spur_sim_mg)"
   ]
  },
  {
   "cell_type": "markdown",
   "metadata": {},
   "source": []
  },
  {
   "cell_type": "code",
   "execution_count": null,
   "metadata": {},
   "outputs": [],
   "source": [
    "plt.plot(hsc['g_psfflux_mag'][mask],\n",
    "        np.sqrt(hsc['g_psfflux_magsigma'][mask]**2+\n",
    "                hsc['i_psfflux_magsigma'][mask]**2),\n",
    "        marker='.', ls='none', alpha=0.2)\n",
    "plt.xlim(20, 26)\n",
    "plt.ylim(1e-3, 1e0)\n",
    "plt.yscale('log')\n",
    "\n",
    "stream_sim_gi_err = 10**((-0.8 - -3) / (26 - 20) * (stream_sim_mg - 20) + -3)\n",
    "plt.plot(stream_sim_mg, stream_sim_gi_err, marker='.', ls='none', color='k')\n",
    "\n",
    "spur_sim_gi_err = 10**((-0.8 - -3) / (26 - 20) * (spur_sim_mg - 20) + -3)\n",
    "plt.plot(spur_sim_mg, spur_sim_gi_err, marker='.', ls='none', color='k')\n",
    "\n",
    "stream_sim_gi = np.random.normal(stream_sim_gi, np.sqrt(stream_sim_gi_err**2 + 0.025**2), \n",
    "                                 size=len(stream_sim_mg))\n",
    "spur_sim_gi = np.random.normal(spur_sim_gi, np.sqrt(spur_sim_gi_err**2 + 0.025**2), \n",
    "                               size=len(spur_sim_mg))\n",
    "\n",
    "plt.axvline(24)\n",
    "plt.axhline(0.15)"
   ]
  },
  {
   "cell_type": "code",
   "execution_count": null,
   "metadata": {},
   "outputs": [],
   "source": [
    "i_g = iso['ps1_g'] + coord.Distance(8*u.kpc).distmod.value\n",
    "i_gi = iso['ps1_g'] - iso['ps1_i']\n",
    "\n",
    "i_left = i_gi - 0.4*(i_g/27)**5\n",
    "i_right = i_gi + 0.4*(i_g/27)**5\n",
    "\n",
    "poly = np.hstack([np.array([i_left, i_g - 0.5/2.]), \n",
    "                  np.array([i_right[::-1], i_g[::-1] + 0.5/2.])]).T\n",
    "ind = (poly[:,1] < 26) & (poly[:,1] > 20)\n",
    "# ind = (poly[:,1] < 24) & (poly[:,1] > 20.)\n",
    "poly_main = poly[ind]\n",
    "cmd_path_main = mpl.path.Path(poly_main)"
   ]
  },
  {
   "cell_type": "code",
   "execution_count": null,
   "metadata": {},
   "outputs": [],
   "source": [
    "fig, axes = plt.subplots(1, 4, figsize=(15, 6),\n",
    "                         sharex=True, sharey=True)\n",
    "\n",
    "ax = axes[0]\n",
    "ax.plot(hsc['g_psfflux_mag'][mask] - hsc['i_psfflux_mag'][mask],\n",
    "        hsc['g_psfflux_mag'][mask],\n",
    "        marker='.', ls='none', color='k',\n",
    "        alpha=0.5)\n",
    "\n",
    "ax.plot(stream_sim_gi, \n",
    "        stream_sim_mg,\n",
    "        marker='.', ls='none', color='k',\n",
    "        alpha=0.5)\n",
    "\n",
    "\n",
    "ax = axes[1]\n",
    "ax.plot(hsc['g_psfflux_mag'][mask] - hsc['i_psfflux_mag'][mask],\n",
    "        hsc['g_psfflux_mag'][mask],\n",
    "        marker='.', ls='none', color='k',\n",
    "        alpha=0.5)\n",
    "\n",
    "ax.plot(spur_sim_gi, \n",
    "        spur_sim_mg,\n",
    "        marker='.', ls='none', color='k',\n",
    "        alpha=0.5)\n",
    "\n",
    "\n",
    "ax = axes[2]\n",
    "ax.plot(hsc['g_psfflux_mag'][mask] - hsc['i_psfflux_mag'][mask],\n",
    "        hsc['g_psfflux_mag'][mask],\n",
    "        marker='.', ls='none', color='k',\n",
    "        alpha=0.5)\n",
    "\n",
    "\n",
    "ax = axes[3]\n",
    "ax.plot(stream_sim_gi, \n",
    "        stream_sim_mg,\n",
    "        marker='.', ls='none', color='k',\n",
    "        alpha=0.5)\n",
    "\n",
    "\n",
    "ax.set_xlim(-1, 3)\n",
    "ax.set_ylim(26., 19)\n",
    "axes[0].set_xlabel('$g-i$')\n",
    "axes[1].set_xlabel('$g-i$')\n",
    "axes[0].set_ylabel('$g$')\n",
    "# ax.axhline(24, color='#666666', zorder=-100)\n",
    "fig.set_facecolor('w')\n",
    "\n",
    "axes[0].set_title('stream field')\n",
    "axes[1].set_title('spur field')\n",
    "axes[2].set_title('HSC background')\n",
    "axes[3].set_title('GD-1 CMD model')\n",
    "\n",
    "for ax in axes:\n",
    "    ax.plot(poly_main[:, 0], poly_main[:, 1], \n",
    "            color='tab:red')\n",
    "\n",
    "fig.tight_layout()"
   ]
  },
  {
   "cell_type": "code",
   "execution_count": null,
   "metadata": {},
   "outputs": [],
   "source": [
    "bg_colmag = np.vstack((hsc['g_psfflux_mag'][mask] - hsc['i_psfflux_mag'][mask],\n",
    "                       hsc['g_psfflux_mag'][mask])).T\n",
    "bg_iso_mask = cmd_path_main.contains_points(bg_colmag)\n",
    "\n",
    "fg_stream_colmag = np.vstack((stream_sim_gi, stream_sim_mg)).T\n",
    "fg_stream_iso_mask = cmd_path_main.contains_points(fg_stream_colmag)\n",
    "\n",
    "fg_spur_colmag = np.vstack((spur_sim_gi, spur_sim_mg)).T\n",
    "fg_spur_iso_mask = cmd_path_main.contains_points(fg_spur_colmag)"
   ]
  },
  {
   "cell_type": "code",
   "execution_count": null,
   "metadata": {},
   "outputs": [],
   "source": [
    "bg_iso_mask.sum(), fg_stream_iso_mask.sum(), fg_spur_iso_mask.sum()"
   ]
  },
  {
   "cell_type": "code",
   "execution_count": null,
   "metadata": {},
   "outputs": [],
   "source": [
    "g_bins = np.linspace(20, 26, 16)\n",
    "\n",
    "n_bg, _ = np.histogram(hsc['g_psfflux_mag'][mask][bg_iso_mask], bins=g_bins)\n",
    "n_bg = n_bg / 1.5 # to account for larger area\n",
    "\n",
    "n_stream, _ = np.histogram(stream_sim_mg[fg_stream_iso_mask], bins=g_bins)\n",
    "n_spur, _ = np.histogram(spur_sim_mg[fg_spur_iso_mask], bins=g_bins)\n",
    "\n",
    "_binc = 0.5*(g_bins[:-1]+g_bins[1:])\n",
    "# plt.plot(_binc, n_bg, marker='', drawstyle='steps-mid')\n",
    "# plt.plot(_binc, n_stream, marker='', drawstyle='steps-mid')\n",
    "# plt.plot(_binc, n_spur, marker='', drawstyle='steps-mid')\n",
    "\n",
    "plt.plot(_binc, np.cumsum(n_bg), \n",
    "         marker='', drawstyle='steps-mid', label='background', \n",
    "         color='k', zorder=-10)\n",
    "plt.plot(_binc, np.cumsum(n_stream), \n",
    "         marker='', drawstyle='steps-mid', label='stream field')\n",
    "plt.plot(_binc, np.cumsum(n_spur), \n",
    "         marker='', drawstyle='steps-mid', label='spur field')\n",
    "plt.legend(loc='best', fontsize=14)\n",
    "plt.yscale('log')\n",
    "plt.ylabel(r'cumulative $N$')\n",
    "plt.xlabel('$g$ [mag]')"
   ]
  },
  {
   "cell_type": "code",
   "execution_count": null,
   "metadata": {},
   "outputs": [],
   "source": [
    "_binc = 0.5*(g_bins[:-1]+g_bins[1:])\n",
    "np.save('g_nbg.npy', np.vstack((_binc, n_bg)))\n",
    "np.save('g_nstream.npy', np.vstack((_binc, n_stream)))\n",
    "\n",
    "fig, ax = plt.subplots(1, 1, figsize=(6, 5))\n",
    "\n",
    "ax.plot(_binc, np.cumsum(n_stream) / np.sqrt(np.cumsum(n_bg)), \n",
    "        marker='',  label='stream field',\n",
    "        lw=2.)\n",
    "\n",
    "ax.plot(_binc, np.cumsum(n_spur) / np.sqrt(np.cumsum(n_bg)), \n",
    "        marker='', label='spur field',\n",
    "        lw=2)\n",
    "\n",
    "# ax.plot(_binc, np.cumsum(n_stream / np.sqrt(n_stream)), \n",
    "#         marker='',  label='stream field',\n",
    "#         lw=2.)\n",
    "\n",
    "# ax.plot(_binc, np.cumsum(n_spur / np.sqrt(n_bg)), \n",
    "#         marker='', label='spur field',\n",
    "#         lw=2)\n",
    "\n",
    "ax.legend(loc='best', fontsize=18)\n",
    "\n",
    "ax.set_xlabel('$g$ [mag]')\n",
    "ax.set_ylabel(r'cumulative S/N')\n",
    "\n",
    "ax.set_xticks(np.arange(20, 26+1e-3, 1))\n",
    "ax.set_xlim(20, 26)\n",
    "ax.set_ylim(1, 34)\n",
    "\n",
    "ax.axvline(23., alpha=0.4, \n",
    "           color='k', linestyle='--', zorder=-10)\n",
    "ax.axvline(25.5, alpha=0.6, \n",
    "           color='k', zorder=-10)\n",
    "\n",
    "fig.set_facecolor('w')\n",
    "\n",
    "fig.tight_layout()"
   ]
  },
  {
   "cell_type": "code",
   "execution_count": null,
   "metadata": {},
   "outputs": [],
   "source": [
    "for f in [1.01, 1.2, 1.3, 2, 4]:\n",
    "    err_f = np.sqrt(np.cumsum(n_bg)) / (f**2 * np.cumsum(n_stream)) * np.sqrt(2*(1+f**2) + f*(1+f)*np.cumsum(n_stream)/np.cumsum(n_bg))\n",
    "#     plt.plot(_binc, err_f) # / f)\n",
    "    plt.plot(_binc, (f-1) / err_f)\n",
    "\n",
    "plt.axhline(3.)\n",
    "plt.yscale('log')"
   ]
  },
  {
   "cell_type": "markdown",
   "metadata": {},
   "source": [
    "---"
   ]
  },
  {
   "cell_type": "code",
   "execution_count": null,
   "metadata": {},
   "outputs": [],
   "source": [
    "plt.figure()\n",
    "_, bins, _ = plt.hist(main.phi2, bins='auto', density=True, alpha=0.5)\n",
    "plt.hist(np.random.normal(0, 0.17, size=1000), density=True, alpha=0.5)\n",
    "\n",
    "stream_sim_phi1 = np.random.uniform(-1.5, 1.5, size=len(stream_sim_gi))\n",
    "stream_sim_phi2 = np.random.normal(0, 0.17, size=len(stream_sim_gi))\n",
    "\n",
    "spur_sim_phi1 = np.random.uniform(-1.5, 1.5, size=len(spur_sim_gi))\n",
    "spur_sim_phi2 = np.random.normal(0, 0.5, size=len(spur_sim_gi))"
   ]
  },
  {
   "cell_type": "code",
   "execution_count": null,
   "metadata": {},
   "outputs": [],
   "source": [
    "fig, axes = plt.subplots(1, 2, figsize=(10, 5), \n",
    "                         sharex=True, sharey=True)\n",
    "\n",
    "ax = axes[0]\n",
    "ax.plot(c_fr.lon.wrap_at(180*u.deg).degree[mask][bg_iso_mask],\n",
    "        c_fr.lat.degree[mask][bg_iso_mask],\n",
    "        marker='.', ls='none', color='k')\n",
    "\n",
    "ax.plot(stream_sim_phi1[fg_stream_iso_mask], \n",
    "        stream_sim_phi2[fg_stream_iso_mask],\n",
    "        marker='.', ls='none', color='k')\n",
    "\n",
    "ax.set_xlim(-1.5, 1.5)\n",
    "ax.set_ylim(-1.5, 1.5)\n",
    "\n",
    "ax = axes[1]\n",
    "ax.plot(c_fr.lon.wrap_at(180*u.deg).degree[mask][bg_iso_mask],\n",
    "        c_fr.lat.degree[mask][bg_iso_mask],\n",
    "        marker='.', ls='none', color='k')\n",
    "\n",
    "ax.plot(spur_sim_phi1[fg_spur_iso_mask], spur_sim_phi2[fg_spur_iso_mask],\n",
    "        marker='.', ls='none', color='k')\n",
    "\n",
    "axes[0].set_xlabel('lon [deg]')\n",
    "axes[0].set_ylabel('lat [deg]')\n",
    "axes[0].set_title('stream field')\n",
    "axes[1].set_title('spur field')"
   ]
  },
  {
   "cell_type": "code",
   "execution_count": null,
   "metadata": {},
   "outputs": [],
   "source": []
  },
  {
   "cell_type": "code",
   "execution_count": null,
   "metadata": {},
   "outputs": [],
   "source": [
    "fig, ax = plt.subplots(1, 1, figsize=(6,6))\n",
    "\n",
    "ax.plot(hsc['g_psfflux_mag'][mask] - hsc['i_psfflux_mag'][mask],\n",
    "        hsc['g_psfflux_mag'][mask] - hsc['z_psfflux_mag'][mask],\n",
    "        marker=',', ls='none', color='k',\n",
    "        alpha=0.5)\n",
    "\n",
    "ax.set_xlim(-1, 3)\n",
    "ax.set_ylim(-3, 4)\n",
    "ax.set_xlabel('$g-i$')\n",
    "ax.set_ylabel('$g-z$')\n",
    "fig.set_facecolor('w')"
   ]
  },
  {
   "cell_type": "code",
   "execution_count": null,
   "metadata": {},
   "outputs": [],
   "source": []
  }
 ],
 "metadata": {
  "kernelspec": {
   "display_name": "Python [default]",
   "language": "python",
   "name": "python3"
  },
  "language_info": {
   "codemirror_mode": {
    "name": "ipython",
    "version": 3
   },
   "file_extension": ".py",
   "mimetype": "text/x-python",
   "name": "python",
   "nbconvert_exporter": "python",
   "pygments_lexer": "ipython3",
   "version": "3.6.4"
  }
 },
 "nbformat": 4,
 "nbformat_minor": 2
}