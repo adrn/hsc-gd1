{
 "cells": [
  {
   "cell_type": "code",
   "execution_count": null,
   "metadata": {},
   "outputs": [],
   "source": [
    "# Third-party\n",
    "import astropy.coordinates as coord\n",
    "from astropy.table import Table\n",
    "import astropy.units as u\n",
    "from astropy.constants import G\n",
    "import matplotlib as mpl\n",
    "import matplotlib.pyplot as plt\n",
    "import numpy as np\n",
    "%matplotlib inline\n",
    "from scipy.stats import binned_statistic\n",
    "import gala.coordinates as gc\n",
    "from pyia import GaiaData\n",
    "\n",
    "from matplotlib.patches import Circle\n",
    "import matplotlib.pyplot as plt\n",
    "from matplotlib.gridspec import GridSpec\n",
    "\n",
    "from gap import *"
   ]
  },
  {
   "cell_type": "code",
   "execution_count": null,
   "metadata": {},
   "outputs": [],
   "source": [
    "gd1 = GaiaData('/Users/adrian/projects/gd1-dr2/data/gd1-master.fits')"
   ]
  },
  {
   "cell_type": "code",
   "execution_count": null,
   "metadata": {},
   "outputs": [],
   "source": [
    "iso = Table.read('/Users/adrian/data/Isochrones/PARSEC/FeH_-1.4_iso.fits')\n",
    "iso_mask = (iso['stage']>=0) & (iso['stage']<3) & (iso['log(age/yr)'] == 10)\n",
    "iso = iso[iso_mask]\n",
    "\n",
    "iso_g = iso['ps1_g'] + coord.Distance(8*u.kpc).distmod.value"
   ]
  },
  {
   "cell_type": "markdown",
   "metadata": {},
   "source": [
    "## What is the linear mass density of stars along GD-1?"
   ]
  },
  {
   "cell_type": "code",
   "execution_count": null,
   "metadata": {},
   "outputs": [],
   "source": [
    "stream = gd1[gd1.pm_mask & gd1.gi_cmd_mask]\n",
    "\n",
    "segment_mask = (stream.phi1 > -40*u.deg) & (stream.phi1 < -30*u.deg)\n",
    "main = stream[segment_mask & (np.abs(stream.phi2) < 0.5*u.deg)]\n",
    "spur = stream[segment_mask & (stream.phi2 > 0.5*u.deg) & (stream.phi2 < 2.*u.deg)]"
   ]
  },
  {
   "cell_type": "code",
   "execution_count": null,
   "metadata": {},
   "outputs": [],
   "source": [
    "fig, ax = plt.subplots(1, 1, figsize=(10, 4))\n",
    "\n",
    "ax.plot(stream.phi1, stream.phi2,\n",
    "        marker='.', color='k', alpha=0.5, ls='none')\n",
    "\n",
    "ax.set_xlim(-75, -10)\n",
    "ax.set_ylim(-10, 10)\n",
    "\n",
    "ax.set_xlabel(r'$\\phi_1$ [deg]')\n",
    "ax.set_ylabel(r'$\\phi_2$ [deg]')"
   ]
  },
  {
   "cell_type": "code",
   "execution_count": null,
   "metadata": {},
   "outputs": [],
   "source": [
    "fig, ax = plt.subplots(1, 1, figsize=(6, 5))\n",
    "\n",
    "ax.plot(stream.phi1, stream.phi2,\n",
    "        marker='.', color='#aaaaaa', alpha=0.5, ls='none')\n",
    "\n",
    "ax.plot(main.phi1, main.phi2,\n",
    "        marker='.', color='k', alpha=0.8, ls='none')\n",
    "\n",
    "ax.plot(spur.phi1, spur.phi2,\n",
    "        marker='.', color='tab:red', alpha=0.8, ls='none')\n",
    "\n",
    "ax.set_xlim(-55, -25)\n",
    "ax.set_ylim(-10, 10)\n",
    "\n",
    "ax.set_xlabel(r'$\\phi_1$ [deg]')\n",
    "ax.set_ylabel(r'$\\phi_2$ [deg]')"
   ]
  },
  {
   "cell_type": "code",
   "execution_count": null,
   "metadata": {},
   "outputs": [],
   "source": [
    "fig, ax = plt.subplots(1, 1, figsize=(5, 5))\n",
    "\n",
    "ax.plot(main.g0 - main.i0, main.g0,\n",
    "        marker='.', ls='none', alpha=0.5)\n",
    "ax.set_xlim(-1, 2)\n",
    "ax.set_ylim(21.5, 14)\n",
    "fig.tight_layout()"
   ]
  },
  {
   "cell_type": "code",
   "execution_count": null,
   "metadata": {},
   "outputs": [],
   "source": [
    "gd1_lf_mask = (iso_g > 18) & (iso_g < 21)\n",
    "gd1_lf_iso = iso[gd1_lf_mask]\n",
    "\n",
    "nstream = ((main.g0 > 18*u.mag) & (main.g0 < 21*u.mag)).sum()\n",
    "nspur = ((spur.g0 > 18*u.mag) & (spur.g0 < 21*u.mag)).sum()\n",
    "nstream, nspur"
   ]
  },
  {
   "cell_type": "code",
   "execution_count": null,
   "metadata": {},
   "outputs": [],
   "source": [
    "fac = np.sum((gd1_lf_iso['int_IMF'][1:] - gd1_lf_iso['int_IMF'][:-1]) / u.Msun)\n",
    "M_stream = nstream / fac\n",
    "M_spur = nspur / fac\n",
    "\n",
    "stream_linear_dens = M_stream / (10*u.deg)\n",
    "spur_linear_dens = M_spur / (10*u.deg)\n",
    "stream_linear_dens, spur_linear_dens"
   ]
  },
  {
   "cell_type": "markdown",
   "metadata": {},
   "source": [
    "## Select an existing HSC field at comparable Galactic latitude"
   ]
  },
  {
   "cell_type": "code",
   "execution_count": null,
   "metadata": {},
   "outputs": [],
   "source": [
    "hsc = Table.read('/Users/adrian/data/HSC/hsc-stars-gri.fits')"
   ]
  },
  {
   "cell_type": "code",
   "execution_count": null,
   "metadata": {},
   "outputs": [],
   "source": [
    "c = coord.SkyCoord(ra=hsc['ra']*u.deg, dec=hsc['dec']*u.deg)"
   ]
  },
  {
   "cell_type": "code",
   "execution_count": null,
   "metadata": {},
   "outputs": [],
   "source": [
    "gal = c.transform_to(coord.Galactic)\n",
    "\n",
    "fig, ax = plt.subplots(1, 1, figsize=(6, 6))\n",
    "ax.plot(gal.l.degree[::64],\n",
    "        gal.b.degree[::64], \n",
    "        marker='.', ls='none')\n",
    "ax.axhline(52)\n",
    "ax.axhline(-52)\n",
    "ax.axvline(188)\n",
    "# ax.set_xlim(0, 360)\n",
    "ax.set_xlim(73, 78)\n",
    "ax.set_ylim(-55, -50)"
   ]
  },
  {
   "cell_type": "code",
   "execution_count": null,
   "metadata": {},
   "outputs": [],
   "source": [
    "fr = coord.SkyOffsetFrame(origin=coord.Galactic(l=75*u.deg, b=-52*u.deg))\n",
    "c_fr = c.transform_to(fr)\n",
    "\n",
    "# mask = np.sqrt(c_fr.lon.wrap_at(180*u.deg)**2 + c_fr.lat**2) < 1.5*u.deg\n",
    "mask = np.abs(c_fr.lon.wrap_at(180*u.deg)) < 2.25*u.deg\n",
    "mask &= np.abs(c_fr.lat) < 0.75*u.deg\n",
    "print(mask.sum())\n",
    "\n",
    "fig, ax = plt.subplots(1, 1, figsize=(5, 5))\n",
    "ax.plot(c_fr.lon.wrap_at(180*u.deg).degree,\n",
    "        c_fr.lat.degree,\n",
    "        marker='.', ls='none')\n",
    "ax.plot(c_fr.lon.wrap_at(180*u.deg).degree[mask],\n",
    "        c_fr.lat.degree[mask],\n",
    "        marker='.', ls='none')\n",
    "ax.set_xlim(-2.25, 2.25)\n",
    "ax.set_ylim(-1.5, 1.5)"
   ]
  },
  {
   "cell_type": "markdown",
   "metadata": {},
   "source": [
    "### Over-plot GD-1 isochrone"
   ]
  },
  {
   "cell_type": "code",
   "execution_count": null,
   "metadata": {},
   "outputs": [],
   "source": [
    "fig, ax = plt.subplots(1, 1, figsize=(6,6))\n",
    "\n",
    "ax.plot(hsc['g_psfflux_mag'][mask] - hsc['i_psfflux_mag'][mask],\n",
    "        hsc['g_psfflux_mag'][mask],\n",
    "        marker='.', ls='none', color='k',\n",
    "        alpha=0.5)\n",
    "\n",
    "m_g = iso['ps1_g'] + coord.Distance(8*u.kpc).distmod.value\n",
    "ax.plot(iso['ps1_g']-iso['ps1_i'], m_g,\n",
    "        marker='', lw=3, color='tab:orange', alpha=0.8)\n",
    "\n",
    "ax.set_xlim(-1, 3)\n",
    "ax.set_ylim(26., 19)\n",
    "ax.set_xlabel('$g-i$')\n",
    "ax.set_ylabel('$g$')\n",
    "ax.axhline(24, color='#666666', zorder=-100)\n",
    "fig.set_facecolor('w')"
   ]
  },
  {
   "cell_type": "markdown",
   "metadata": {},
   "source": [
    "### Use isochrone to estimate number of stars to sample (following mass function) in the field:"
   ]
  },
  {
   "cell_type": "code",
   "execution_count": null,
   "metadata": {},
   "outputs": [],
   "source": [
    "lf_mask = (m_g > 19.5) & (m_g < 26.2)\n",
    "lf_iso = iso[lf_mask]"
   ]
  },
  {
   "cell_type": "code",
   "execution_count": null,
   "metadata": {},
   "outputs": [],
   "source": [
    "M_stream = stream_linear_dens * 3*u.deg # mass in GD-1 stream stars in 1 field\n",
    "M_spur = spur_linear_dens * 3*u.deg # mass in GD-1 spur stars in 1 field\n",
    "(((lf_iso['int_IMF'][1:] - lf_iso['int_IMF'][:-1]) / u.Msun * M_stream).sum(),\n",
    " ((lf_iso['int_IMF'][1:] - lf_iso['int_IMF'][:-1]) / u.Msun * M_spur).sum())"
   ]
  },
  {
   "cell_type": "code",
   "execution_count": null,
   "metadata": {},
   "outputs": [],
   "source": [
    "from scipy.interpolate import interp1d\n",
    "interp_f = interp1d(lf_iso['int_IMF'], lf_iso['M_act'])\n",
    "stream_masses = interp_f(np.random.uniform(lf_iso['int_IMF'].min(), lf_iso['int_IMF'].max(), 1000))\n",
    "spur_masses = interp_f(np.random.uniform(lf_iso['int_IMF'].min(), lf_iso['int_IMF'].max(), 580))\n",
    "stream_masses.sum(), spur_masses.sum()"
   ]
  },
  {
   "cell_type": "code",
   "execution_count": null,
   "metadata": {},
   "outputs": [],
   "source": [
    "mg_f = interp1d(lf_iso['M_act'], m_g[lf_mask], kind='cubic')\n",
    "gi_f = interp1d(m_g[lf_mask], (iso['ps1_g']-iso['ps1_i'])[lf_mask], kind='cubic')\n",
    "\n",
    "stream_sim_mg = mg_f(stream_masses)\n",
    "base_stream_sim_gi = gi_f(stream_sim_mg)"
   ]
  },
  {
   "cell_type": "markdown",
   "metadata": {},
   "source": [
    "We simulate 3 cases: limiting mag's of 22.5, 25, 25.5"
   ]
  },
  {
   "cell_type": "code",
   "execution_count": null,
   "metadata": {},
   "outputs": [],
   "source": [
    "glims = [22.5, 24, 25.5]\n",
    "shifts = [3., 1.9, 0.]\n",
    "poly_facs = [3, 1.5, 0.]"
   ]
  },
  {
   "cell_type": "code",
   "execution_count": null,
   "metadata": {},
   "outputs": [],
   "source": [
    "plt.plot(hsc['g_psfflux_mag'][mask],\n",
    "        np.sqrt(hsc['g_psfflux_magsigma'][mask]**2+\n",
    "                hsc['i_psfflux_magsigma'][mask]**2),\n",
    "        marker='.', ls='none', alpha=0.2)\n",
    "plt.xlim(20, 26)\n",
    "plt.ylim(1e-3, 1e0)\n",
    "plt.yscale('log')\n",
    "\n",
    "stream_sim_gi_err = dict()\n",
    "stream_sim_gi = dict()\n",
    "\n",
    "for glim, shift in zip(glims, shifts):\n",
    "    print(glim, shift)\n",
    "    stream_sim_gi_err[glim] = 10**((-0.8 - -3) / (26 - 20) * (stream_sim_mg - 20 + shift) + -3)\n",
    "    plt.plot(stream_sim_mg, stream_sim_gi_err[glim], \n",
    "             marker='.', ls='none', color='k')\n",
    "\n",
    "    stream_sim_gi[glim] = np.random.normal(base_stream_sim_gi, \n",
    "                                           np.sqrt(stream_sim_gi_err[glim]**2 + 0.025**2), \n",
    "                                           size=len(stream_sim_mg))\n",
    "    \n",
    "    stream_sim_gi[glim][stream_sim_mg > glim] = np.nan\n",
    "\n",
    "plt.axvline(24)\n",
    "plt.axhline(0.15)\n",
    "\n",
    "plt.axvline(22)\n",
    "plt.axhline(0.08)"
   ]
  },
  {
   "cell_type": "code",
   "execution_count": null,
   "metadata": {},
   "outputs": [],
   "source": [
    "i_g = iso['ps1_g'] + coord.Distance(8*u.kpc).distmod.value\n",
    "i_gi = iso['ps1_g'] - iso['ps1_i']\n",
    "\n",
    "# upsample isochrone:\n",
    "i_g_up = np.linspace(i_g.min(), i_g.max(), 1024)\n",
    "i_gi_up = interp1d(i_g, i_gi)(i_g_up)\n",
    "i_g = i_g_up\n",
    "i_gi = i_gi_up\n",
    "\n",
    "iso_polys = dict()\n",
    "cmd_paths = dict()\n",
    "\n",
    "for glim, polyfac in zip(glims, poly_facs):\n",
    "    i_left = i_gi - 0.4*(i_g/(27 - polyfac))**5\n",
    "    i_right = i_gi + 0.4*(i_g/(27-polyfac))**5\n",
    "\n",
    "    poly = np.hstack([np.array([i_left, i_g - 0.5/2.]), \n",
    "                      np.array([i_right[::-1], i_g[::-1] + 0.5/2.])]).T\n",
    "    ind = (poly[:,1] < glim) & (poly[:,1] > 20)\n",
    "    iso_polys[glim] = poly[ind]\n",
    "    cmd_paths[glim] = mpl.path.Path(iso_polys[glim])"
   ]
  },
  {
   "cell_type": "markdown",
   "metadata": {},
   "source": [
    "### Plot HSC background and simulated stream for 3 different surveys:"
   ]
  },
  {
   "cell_type": "code",
   "execution_count": null,
   "metadata": {},
   "outputs": [],
   "source": [
    "fig, axes = plt.subplots(1, 4, figsize=(15, 6),\n",
    "                         sharex=True, sharey=True)\n",
    "\n",
    "ax = axes[0]\n",
    "ax.plot(hsc['g_psfflux_mag'][mask] - hsc['i_psfflux_mag'][mask],\n",
    "        hsc['g_psfflux_mag'][mask],\n",
    "        marker='.', ls='none', color='k',\n",
    "        alpha=0.5)\n",
    "\n",
    "for ax, glim in zip(axes[1:], glims):    \n",
    "    ax.plot(stream_sim_gi[glim],\n",
    "            stream_sim_mg,\n",
    "            marker='.', ls='none', color='k',\n",
    "            alpha=0.5)\n",
    "    \n",
    "    poly_main = iso_polys[glim]\n",
    "    ax.plot(poly_main[:, 0], poly_main[:, 1], \n",
    "            color='tab:red')\n",
    "\n",
    "ax.set_xlim(-1, 3)\n",
    "ax.set_ylim(26., 19)\n",
    "axes[0].set_xlabel('$g-i$')\n",
    "axes[1].set_xlabel('$g-i$')\n",
    "axes[0].set_ylabel('$g$')\n",
    "# ax.axhline(24, color='#666666', zorder=-100)\n",
    "fig.set_facecolor('w')\n",
    "\n",
    "axes[0].set_title('HSC background')\n",
    "axes[1].set_title('PS1')\n",
    "axes[2].set_title('Megacam')\n",
    "axes[3].set_title('HSC')\n",
    "\n",
    "fig.tight_layout()"
   ]
  },
  {
   "cell_type": "code",
   "execution_count": null,
   "metadata": {},
   "outputs": [],
   "source": [
    "from scipy.optimize import root"
   ]
  },
  {
   "cell_type": "code",
   "execution_count": null,
   "metadata": {},
   "outputs": [],
   "source": [
    "bg_colmag = np.vstack((hsc['g_psfflux_mag'][mask] - hsc['i_psfflux_mag'][mask],\n",
    "                       hsc['g_psfflux_mag'][mask])).T\n",
    "\n",
    "SNs = dict()\n",
    "for glim in glims:\n",
    "    cmd_path_main = cmd_paths[glim]\n",
    "    \n",
    "    fg_stream_colmag = np.vstack((stream_sim_gi[glim], \n",
    "                                  stream_sim_mg)).T\n",
    "    \n",
    "    bg_iso_mask = cmd_path_main.contains_points(bg_colmag)\n",
    "    fg_stream_iso_mask = cmd_path_main.contains_points(fg_stream_colmag)\n",
    "    \n",
    "    n_bg = bg_iso_mask.sum() / 1.5 # to account for larger bg area\n",
    "    n_stream = fg_stream_iso_mask.sum()\n",
    "    \n",
    "    print(glim, n_bg, n_stream)\n",
    "    \n",
    "    SNs[glim] = n_stream / np.sqrt(n_bg)\n",
    "    print(SNs[glim])\n",
    "    \n",
    "    def func(f):\n",
    "        return (f-1) / (np.sqrt(n_bg) / (f**2 * n_stream) * np.sqrt(2*(1+f**2) + f*(1+f)*n_stream/n_bg)) - 3.\n",
    "    res = root(func, 1.2)\n",
    "    print(res.x[0])\n",
    "    print()\n",
    "    # break"
   ]
  },
  {
   "cell_type": "markdown",
   "metadata": {},
   "source": [
    "# Proposal figure"
   ]
  },
  {
   "cell_type": "code",
   "execution_count": null,
   "metadata": {},
   "outputs": [],
   "source": [
    "fig = plt.figure(figsize=(9, 6))\n",
    "\n",
    "gs = GridSpec(nrows=4, ncols=3)\n",
    "axes = [fig.add_subplot(gs[:2, 0]), \n",
    "        fig.add_subplot(gs[:2, 1]), \n",
    "        fig.add_subplot(gs[:2, 2]), \n",
    "        fig.add_subplot(gs[2:, :])]\n",
    "\n",
    "# ------------------------------------------\n",
    "# Lower panel first\n",
    "#\n",
    "ax = axes[-1]\n",
    "ax.plot(stream.phi1, stream.phi2, \n",
    "        color='k', marker='o', ms=2.5, \n",
    "        alpha=0.7, mec='none', ls='none')\n",
    "\n",
    "h = 2.75\n",
    "r = 1.5\n",
    "kw = dict(radius=r, alpha=0.8, edgecolor='tab:red', \n",
    "          facecolor='none', linewidth=2)\n",
    "\n",
    "y0 = 0.\n",
    "y1 = 0.4\n",
    "xs = np.arange(-47, -13+1e-3, h)\n",
    "\n",
    "field_cens = []\n",
    "for x in xs:\n",
    "    \n",
    "    if x < -38 or x > -28:\n",
    "        circ = Circle((x, y0), **kw)\n",
    "        ax.add_patch(circ)\n",
    "        field_cens.append([x, y0])\n",
    "    \n",
    "    else:\n",
    "        circ = Circle((x, y1), **kw)\n",
    "        ax.add_patch(circ)\n",
    "        field_cens.append([x, y1])\n",
    "    \n",
    "n_fields = len(field_cens)\n",
    "# ax.set_title('GD-1: {0} fields'.format(n_fields))\n",
    "\n",
    "ax.set_xlabel('$\\phi_1$ [deg]')\n",
    "ax.set_ylabel('$\\phi_2$ [deg]')\n",
    "\n",
    "ax.set_xlim(-52, -8)\n",
    "ax.set_ylim(-5, 5)\n",
    "\n",
    "ax.set_aspect('equal')\n",
    "\n",
    "# ------------------------------------------\n",
    "# Upper left panel\n",
    "#\n",
    "ax = axes[0]\n",
    "ax.plot(hsc['g_psfflux_mag'][mask] - hsc['i_psfflux_mag'][mask],\n",
    "        hsc['g_psfflux_mag'][mask],\n",
    "        marker='o', ms=1.5, ls='none', \n",
    "        color='k', alpha=0.5)\n",
    "\n",
    "glim = 25.5\n",
    "ax.plot(stream_sim_gi[glim],\n",
    "        stream_sim_mg,\n",
    "        marker='o', ms=1.5, ls='none', \n",
    "        color='k', alpha=0.5)\n",
    "\n",
    "ax.set_xlim(-0.5, 3)\n",
    "ax.set_ylim(26., 19)\n",
    "\n",
    "ax.xaxis.set_ticks([0, 1, 2])\n",
    "\n",
    "ax.set_xlabel('$g-i$')\n",
    "ax.set_ylabel('$g$')\n",
    "\n",
    "# ------------------------------------------\n",
    "# Upper middle panel\n",
    "#\n",
    "ax = axes[1]\n",
    "\n",
    "ax.scatter(glims, [SNs[glim] for glim in glims], \n",
    "           marker='s', color='k', s=40)\n",
    "\n",
    "ax.text(glims[0], SNs[glims[0]]-2, 'PS1', \n",
    "        fontsize=14, ha='center', va='top')\n",
    "ax.text(glims[1], SNs[glims[1]]-2, 'Megacam', \n",
    "        fontsize=14, ha='center', va='top')\n",
    "ax.text(glims[2], SNs[glims[2]]-2, 'HSC\\nproposed', \n",
    "        fontsize=14, ha='center', va='top')\n",
    "\n",
    "ax.set_xlabel(r'10$\\sigma$ $g$')\n",
    "ax.set_ylabel('cumulative S/N')\n",
    "\n",
    "ax.set_xticks(np.arange(20, 26+1e-3, 1))\n",
    "ax.set_xlim(21.5, 26.5)\n",
    "\n",
    "ax.set_ylim(0, 35)\n",
    "\n",
    "# ------------------------------------------\n",
    "# Upper right panel\n",
    "# see: Gap-profile.ipynb for parameter exploration\n",
    "ax = axes[2]\n",
    "\n",
    "gamm = np.sqrt(2)\n",
    "r0 = 30 * u.kpc\n",
    "vy = 150 * u.km/u.s\n",
    "b = 1 * u.kpc\n",
    "M = 1e7 * u.Msun\n",
    "alph = 30 * u.deg\n",
    "t = 100. * u.Myr\n",
    "\n",
    "wx = 50 * u.km/u.s\n",
    "wy = 150 * u.km/u.s\n",
    "wz = 0 * u.km/u.s\n",
    "\n",
    "wper = np.sqrt(wx**2 + wz**2)\n",
    "wpar = vy - wy\n",
    "rs = 250 * u.pc\n",
    "w = np.sqrt(wpar**2 + wper**2)\n",
    "tau = (w * r0**2 / (2 * G * M)).to(u.Myr)\n",
    "psi = np.linspace(-30, 30, 1024)*u.deg\n",
    "\n",
    "for alph, style in zip([90, 30, 120]*u.deg,\n",
    "                       [dict(ls='-', lw=3, color='k'),\n",
    "                        dict(ls='--', lw=2, color='#666666'),\n",
    "                        dict(ls=':', lw=2, color='#666666')]):\n",
    "    # for t in np.linspace(100, 900, 16)*u.Myr:\n",
    "    for t in [600] * u.Myr:\n",
    "        with u.set_enabled_equivalencies(u.dimensionless_angles()):\n",
    "            _f = f(t, tau, gamm, vy, r0, wpar, wper, alph).decompose()\n",
    "            _g = g(t, tau, gamm, vy, r0, wpar, wper, alph, b).decompose()\n",
    "            _B2 = B2(b, rs, r0, wpar, wper)\n",
    "            dens = rho(t, _f, _B2, psi, _g)\n",
    "\n",
    "        ax.plot(psi, dens, marker='', \n",
    "                # label=r'$\\alpha = {0:.0f}^\\circ$'.format(alph.value), \n",
    "                label=r'${0:.0f}^\\circ$'.format(alph.value), \n",
    "                **style)\n",
    "        \n",
    "ax.set_xlim(-9, 9)\n",
    "ax.set_ylim(0., 1.75)\n",
    "\n",
    "ax.legend(loc='best', fontsize=10)\n",
    "\n",
    "ax.set_xlabel(r'$\\psi$ [deg]')\n",
    "ax.set_ylabel(r'$\\rho/\\rho_0$')\n",
    "\n",
    "\n",
    "# -----\n",
    "\n",
    "fig.set_facecolor('w')\n",
    "fig.tight_layout()\n",
    "\n",
    "fig.savefig('../figure1.pdf')"
   ]
  },
  {
   "cell_type": "code",
   "execution_count": null,
   "metadata": {},
   "outputs": [],
   "source": [
    "g_exp = 500 * u.s\n",
    "i_exp = 500 * u.s\n",
    "(n_fields * (g_exp+i_exp)).to(u.hour)"
   ]
  },
  {
   "cell_type": "markdown",
   "metadata": {},
   "source": [
    "---"
   ]
  },
  {
   "cell_type": "code",
   "execution_count": null,
   "metadata": {},
   "outputs": [],
   "source": [
    "plt.figure()\n",
    "_, bins, _ = plt.hist(main.phi2, bins='auto', density=True, alpha=0.5)\n",
    "plt.hist(np.random.normal(0, 0.17, size=1000), density=True, alpha=0.5)\n",
    "\n",
    "stream_sim_phi1 = np.random.uniform(-1.5, 1.5, size=len(stream_sim_gi))\n",
    "stream_sim_phi2 = np.random.normal(0, 0.17, size=len(stream_sim_gi))\n",
    "\n",
    "spur_sim_phi1 = np.random.uniform(-1.5, 1.5, size=len(spur_sim_gi))\n",
    "spur_sim_phi2 = np.random.normal(0, 0.5, size=len(spur_sim_gi))"
   ]
  },
  {
   "cell_type": "code",
   "execution_count": null,
   "metadata": {},
   "outputs": [],
   "source": [
    "fig, axes = plt.subplots(1, 2, figsize=(10, 5), \n",
    "                         sharex=True, sharey=True)\n",
    "\n",
    "ax = axes[0]\n",
    "ax.plot(c_fr.lon.wrap_at(180*u.deg).degree[mask][bg_iso_mask],\n",
    "        c_fr.lat.degree[mask][bg_iso_mask],\n",
    "        marker='.', ls='none', color='k')\n",
    "\n",
    "ax.plot(stream_sim_phi1[fg_stream_iso_mask], \n",
    "        stream_sim_phi2[fg_stream_iso_mask],\n",
    "        marker='.', ls='none', color='k')\n",
    "\n",
    "ax.set_xlim(-1.5, 1.5)\n",
    "ax.set_ylim(-1.5, 1.5)\n",
    "\n",
    "ax = axes[1]\n",
    "ax.plot(c_fr.lon.wrap_at(180*u.deg).degree[mask][bg_iso_mask],\n",
    "        c_fr.lat.degree[mask][bg_iso_mask],\n",
    "        marker='.', ls='none', color='k')\n",
    "\n",
    "ax.plot(spur_sim_phi1[fg_spur_iso_mask], spur_sim_phi2[fg_spur_iso_mask],\n",
    "        marker='.', ls='none', color='k')\n",
    "\n",
    "axes[0].set_xlabel('lon [deg]')\n",
    "axes[0].set_ylabel('lat [deg]')\n",
    "axes[0].set_title('stream field')\n",
    "axes[1].set_title('spur field')"
   ]
  },
  {
   "cell_type": "code",
   "execution_count": null,
   "metadata": {},
   "outputs": [],
   "source": []
  },
  {
   "cell_type": "code",
   "execution_count": null,
   "metadata": {},
   "outputs": [],
   "source": [
    "fig, ax = plt.subplots(1, 1, figsize=(6,6))\n",
    "\n",
    "ax.plot(hsc['g_psfflux_mag'][mask] - hsc['i_psfflux_mag'][mask],\n",
    "        hsc['g_psfflux_mag'][mask] - hsc['z_psfflux_mag'][mask],\n",
    "        marker=',', ls='none', color='k',\n",
    "        alpha=0.5)\n",
    "\n",
    "ax.set_xlim(-1, 3)\n",
    "ax.set_ylim(-3, 4)\n",
    "ax.set_xlabel('$g-i$')\n",
    "ax.set_ylabel('$g-z$')\n",
    "fig.set_facecolor('w')"
   ]
  },
  {
   "cell_type": "code",
   "execution_count": null,
   "metadata": {},
   "outputs": [],
   "source": []
  }
 ],
 "metadata": {
  "kernelspec": {
   "display_name": "Python [default]",
   "language": "python",
   "name": "python3"
  },
  "language_info": {
   "codemirror_mode": {
    "name": "ipython",
    "version": 3
   },
   "file_extension": ".py",
   "mimetype": "text/x-python",
   "name": "python",
   "nbconvert_exporter": "python",
   "pygments_lexer": "ipython3",
   "version": "3.6.4"
  }
 },
 "nbformat": 4,
 "nbformat_minor": 2
}