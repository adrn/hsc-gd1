{
 "cells": [
  {
   "cell_type": "code",
   "execution_count": null,
   "metadata": {},
   "outputs": [],
   "source": [
    "import numpy as np\n",
    "import matplotlib.pyplot as plt\n",
    "%matplotlib inline\n",
    "\n",
    "from astropy.constants import G\n",
    "import astropy.units as u\n",
    "from gap import *"
   ]
  },
  {
   "cell_type": "markdown",
   "metadata": {},
   "source": [
    "## Gap profile\n",
    "\n",
    "from Erkal & Belokurov"
   ]
  },
  {
   "cell_type": "code",
   "execution_count": null,
   "metadata": {},
   "outputs": [],
   "source": [
    "gamm = np.sqrt(2)\n",
    "# gamm = 1\n",
    "r0 = 30 * u.kpc\n",
    "vy = 150 * u.km/u.s\n",
    "b = 1 * u.kpc\n",
    "M = 1e7 * u.Msun\n",
    "alph = 30 * u.deg\n",
    "t = 100. * u.Myr\n",
    "\n",
    "wx = 50 * u.km/u.s\n",
    "wy = 150 * u.km/u.s\n",
    "wz = 0 * u.km/u.s\n",
    "print(np.sqrt(wx**2 + wy**2 + wz**2))\n",
    "\n",
    "wper = np.sqrt(wx**2 + wz**2)\n",
    "wpar = vy - wy\n",
    "# rs = 1.6 * u.kpc * np.sqrt(M / (1e8*u.Msun))\n",
    "rs = 250 * u.pc\n",
    "w = np.sqrt(wpar**2 + wper**2)\n",
    "tau = (w * r0**2 / (2 * G * M)).to(u.Myr)\n",
    "psi = np.linspace(-30, 30, 1024)*u.deg\n",
    "\n",
    "plt.figure()\n",
    "for alph, style in zip([90, 30, 120]*u.deg,\n",
    "                       [dict(ls='-', lw=3, color='k'),\n",
    "                        dict(ls='--', lw=2, color='#666666'),\n",
    "                        dict(ls=':', lw=2, color='#666666')]):\n",
    "    # for t in np.linspace(100, 900, 16)*u.Myr:\n",
    "    for t in [600] * u.Myr:\n",
    "        with u.set_enabled_equivalencies(u.dimensionless_angles()):\n",
    "            _f = f(t, tau, gamm, vy, r0, wpar, wper, alph).decompose()\n",
    "            _g = g(t, tau, gamm, vy, r0, wpar, wper, alph, b).decompose()\n",
    "            _B2 = B2(b, rs, r0, wpar, wper)\n",
    "            dens = rho(t, _f, _B2, psi, _g)\n",
    "\n",
    "        plt.plot(psi, dens, marker='', \n",
    "                 label=r'$\\alpha = {0:.0f}^\\circ$'.format(alph.value), \n",
    "                 **style)\n",
    "        \n",
    "plt.xlim(-8, 8)\n",
    "plt.ylim(0., 1.75)\n",
    "\n",
    "plt.legend(loc='best', fontsize=12)\n",
    "\n",
    "plt.xlabel(r'$\\psi$ [deg]')\n",
    "plt.ylabel(r'$\\rho/\\rho_0$')"
   ]
  },
  {
   "cell_type": "code",
   "execution_count": null,
   "metadata": {},
   "outputs": [],
   "source": []
  }
 ],
 "metadata": {
  "kernelspec": {
   "display_name": "Python [default]",
   "language": "python",
   "name": "python3"
  },
  "language_info": {
   "codemirror_mode": {
    "name": "ipython",
    "version": 3
   },
   "file_extension": ".py",
   "mimetype": "text/x-python",
   "name": "python",
   "nbconvert_exporter": "python",
   "pygments_lexer": "ipython3",
   "version": "3.6.4"
  }
 },
 "nbformat": 4,
 "nbformat_minor": 2
}