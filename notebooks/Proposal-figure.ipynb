{
 "cells": [
  {
   "cell_type": "code",
   "execution_count": null,
   "metadata": {},
   "outputs": [],
   "source": [
    "import numpy as np\n",
    "import matplotlib as mpl\n",
    "from matplotlib.patches import Circle\n",
    "import matplotlib.pyplot as plt\n",
    "from matplotlib.gridspec import GridSpec\n",
    "%matplotlib inline\n",
    "\n",
    "from astropy.constants import G\n",
    "from astropy.table import Table\n",
    "import astropy.units as u\n",
    "import astropy.coordinates as coord\n",
    "from astropy.io import ascii\n",
    "\n",
    "from pyia import GaiaData\n",
    "import gala.coordinates as gc"
   ]
  },
  {
   "cell_type": "code",
   "execution_count": null,
   "metadata": {},
   "outputs": [],
   "source": [
    "g = GaiaData('/Users/adrian/projects/gd1-dr2/data/gd1-master.fits')"
   ]
  },
  {
   "cell_type": "code",
   "execution_count": null,
   "metadata": {},
   "outputs": [],
   "source": [
    "stream = g[g.pm_mask & g.gi_cmd_mask & (g.phi2>-5*u.deg)]"
   ]
  },
  {
   "cell_type": "code",
   "execution_count": null,
   "metadata": {},
   "outputs": [],
   "source": [
    "fig = plt.figure(figsize=(8, 6))\n",
    "\n",
    "gs = GridSpec(nrows=4, ncols=2)\n",
    "axes = [fig.add_subplot(gs[:2, 0]), \n",
    "        fig.add_subplot(gs[:2, 1]), \n",
    "        fig.add_subplot(gs[2:, :])]\n",
    "\n",
    "# fig, ax = plt.subplots(1, 1, figsize=(9, 4), \n",
    "#                        constrained_layout=True)\n",
    "\n",
    "# ------------------------------------------\n",
    "# Lower panel\n",
    "#\n",
    "ax = axes[2]\n",
    "ax.plot(stream.phi1, stream.phi2, \n",
    "        color='k', marker='o', ms=2.5, \n",
    "        alpha=0.7, mec='none', ls='none')\n",
    "\n",
    "h = 2.75\n",
    "r = 1.5\n",
    "kw = dict(radius=r, alpha=0.8, edgecolor='tab:red', \n",
    "          facecolor='none', linewidth=2)\n",
    "\n",
    "y0 = 0.\n",
    "y1 = 0.4\n",
    "xs = np.arange(-47, -13+1e-3, h)\n",
    "\n",
    "field_cens = []\n",
    "for x in xs:\n",
    "    \n",
    "    if x < -38 or x > -28:\n",
    "        circ = Circle((x, y0), **kw)\n",
    "        ax.add_patch(circ)\n",
    "        field_cens.append([x, y0])\n",
    "    \n",
    "    else:\n",
    "        circ = Circle((x, y1), **kw)\n",
    "        ax.add_patch(circ)\n",
    "        field_cens.append([x, y1])\n",
    "    \n",
    "n_fields = len(field_cens)\n",
    "# ax.set_title('GD-1: {0} fields'.format(n_fields))\n",
    "\n",
    "ax.set_xlabel('$\\phi_1$ [deg]')\n",
    "ax.set_ylabel('$\\phi_2$ [deg]')\n",
    "\n",
    "ax.set_xlim(-55, -5)\n",
    "ax.set_ylim(-5, 5)\n",
    "\n",
    "ax.set_aspect('equal')\n",
    "\n",
    "\n",
    "# ------------------------------------------\n",
    "# Upper left panel\n",
    "#\n",
    "ax = axes[0]\n",
    "\n",
    "ax.set_xlim(-8, 8)\n",
    "ax.set_ylim(0, 4)\n",
    "\n",
    "ax.set_xlabel(r'$\\psi$ [deg]')\n",
    "ax.set_ylabel(r'$\\rho / \\rho_0$')\n",
    "\n",
    "# ------------------------------------------\n",
    "# Upper right panel\n",
    "#\n",
    "ax = axes[1]\n",
    "\n",
    "binc, n_bg = np.load('g_nbg.npy')\n",
    "binc, n_stream = np.load('g_nstream.npy')\n",
    "\n",
    "ax.plot(binc, np.cumsum(n_stream) / np.sqrt(np.cumsum(n_bg)) - sn_poly(binc), \n",
    "        marker='', lw=3., color='k')\n",
    "\n",
    "ax.set_xlabel(r'10$\\sigma$ limiting $g$ [mag]')\n",
    "ax.set_ylabel('cumulative S/N\\n per HSC field')\n",
    "\n",
    "ax.set_xticks(np.arange(20, 26+1e-3, 1))\n",
    "ax.set_xlim(20, 26)\n",
    "\n",
    "ax.set_ylim(0, 35)\n",
    "\n",
    "# ax.axvline(23., alpha=0.4, \n",
    "#            color='k', linestyle='--', zorder=-10)\n",
    "ax.axvline(25.5, alpha=0.6, \n",
    "           color='k', zorder=-10)\n",
    "\n",
    "# -----\n",
    "\n",
    "fig.set_facecolor('w')\n",
    "fig.tight_layout()\n",
    "\n",
    "fig.savefig('../figure1.pdf')"
   ]
  },
  {
   "cell_type": "code",
   "execution_count": null,
   "metadata": {},
   "outputs": [],
   "source": [
    "g_time = 500*u.second\n",
    "i_time = 500*u.second\n",
    "(n_fields * (g_time + i_time)).to(u.hour)"
   ]
  },
  {
   "cell_type": "code",
   "execution_count": null,
   "metadata": {},
   "outputs": [],
   "source": []
  },
  {
   "cell_type": "markdown",
   "metadata": {},
   "source": [
    "---"
   ]
  },
  {
   "cell_type": "code",
   "execution_count": null,
   "metadata": {},
   "outputs": [],
   "source": [
    "from scipy.stats import poisson"
   ]
  },
  {
   "cell_type": "code",
   "execution_count": null,
   "metadata": {},
   "outputs": [],
   "source": [
    "N1 = 1000.\n",
    "Nbg1 = 400.\n",
    "\n",
    "N2 = 1091.\n",
    "Nbg2 = 410.\n",
    "\n",
    "(N1 - Nbg1) / (N2 - Nbg2)"
   ]
  },
  {
   "cell_type": "code",
   "execution_count": null,
   "metadata": {},
   "outputs": [],
   "source": [
    "frac = ((poisson.rvs(N1, size=4096) - poisson.rvs(Nbg1, size=4096)) /\n",
    "        (poisson.rvs(N2, size=4096) - poisson.rvs(Nbg2, size=4096)))\n",
    "plt.hist(frac, bins=np.linspace(0.5, 1.5, 32));\n",
    "np.std(frac)"
   ]
  },
  {
   "cell_type": "code",
   "execution_count": null,
   "metadata": {},
   "outputs": [],
   "source": [
    "a = N1 - Nbg1\n",
    "erra = np.sqrt(N1 + Nbg1)\n",
    "\n",
    "b = N2 - Nbg2\n",
    "errb = np.sqrt(N2 + Nbg2)"
   ]
  },
  {
   "cell_type": "code",
   "execution_count": null,
   "metadata": {},
   "outputs": [],
   "source": [
    "(a/b) * np.sqrt(erra**2/a**2 + errb**2/b**2)"
   ]
  },
  {
   "cell_type": "code",
   "execution_count": null,
   "metadata": {},
   "outputs": [],
   "source": []
  },
  {
   "cell_type": "code",
   "execution_count": null,
   "metadata": {},
   "outputs": [],
   "source": []
  },
  {
   "cell_type": "code",
   "execution_count": null,
   "metadata": {},
   "outputs": [],
   "source": []
  }
 ],
 "metadata": {
  "kernelspec": {
   "display_name": "Python [default]",
   "language": "python",
   "name": "python3"
  },
  "language_info": {
   "codemirror_mode": {
    "name": "ipython",
    "version": 3
   },
   "file_extension": ".py",
   "mimetype": "text/x-python",
   "name": "python",
   "nbconvert_exporter": "python",
   "pygments_lexer": "ipython3",
   "version": "3.6.4"
  }
 },
 "nbformat": 4,
 "nbformat_minor": 2
}